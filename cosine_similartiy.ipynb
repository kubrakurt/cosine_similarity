{
 "cells": [
  {
   "cell_type": "code",
   "execution_count": 1,
   "metadata": {},
   "outputs": [],
   "source": [
    "import string\n",
    "import numpy as np\n",
    "import pandas as pd\n",
    "from sklearn.metrics.pairwise import linear_kernel\n",
    "from sklearn.feature_extraction.text import TfidfVectorizer"
   ]
  },
  {
   "cell_type": "code",
   "execution_count": 2,
   "metadata": {},
   "outputs": [
    {
     "data": {
      "text/html": [
       "<div>\n",
       "<style scoped>\n",
       "    .dataframe tbody tr th:only-of-type {\n",
       "        vertical-align: middle;\n",
       "    }\n",
       "\n",
       "    .dataframe tbody tr th {\n",
       "        vertical-align: top;\n",
       "    }\n",
       "\n",
       "    .dataframe thead th {\n",
       "        text-align: right;\n",
       "    }\n",
       "</style>\n",
       "<table border=\"1\" class=\"dataframe\">\n",
       "  <thead>\n",
       "    <tr style=\"text-align: right;\">\n",
       "      <th></th>\n",
       "      <th>Kitap</th>\n",
       "      <th>YayınEvi</th>\n",
       "      <th>Yazar</th>\n",
       "    </tr>\n",
       "  </thead>\n",
       "  <tbody>\n",
       "    <tr>\n",
       "      <th>0</th>\n",
       "      <td>Körlük</td>\n",
       "      <td>KIRMIZI KEDİ YAYINEVİ,</td>\n",
       "      <td>Yazar:   Jose Saramago,</td>\n",
       "    </tr>\n",
       "    <tr>\n",
       "      <th>1</th>\n",
       "      <td>Momo</td>\n",
       "      <td>PEGASUS YAYINLARI,</td>\n",
       "      <td>Yazar:   Michael Ende,</td>\n",
       "    </tr>\n",
       "    <tr>\n",
       "      <th>2</th>\n",
       "      <td>Şeker Portakalı (Ciltsiz)</td>\n",
       "      <td>CAN YAYINLARI,</td>\n",
       "      <td>Yazar:   Jose Mauro De Vasconcelos,</td>\n",
       "    </tr>\n",
       "    <tr>\n",
       "      <th>3</th>\n",
       "      <td>1984</td>\n",
       "      <td>CAN YAYINLARI,</td>\n",
       "      <td>Yazar:   George Orwell,</td>\n",
       "    </tr>\n",
       "    <tr>\n",
       "      <th>4</th>\n",
       "      <td>Fareler ve İnsanlar</td>\n",
       "      <td>SEL YAYINCILIK,</td>\n",
       "      <td>Yazar:   John Steinbeck,</td>\n",
       "    </tr>\n",
       "  </tbody>\n",
       "</table>\n",
       "</div>"
      ],
      "text/plain": [
       "                       Kitap                YayınEvi  \\\n",
       "0                     Körlük  KIRMIZI KEDİ YAYINEVİ,   \n",
       "1                       Momo      PEGASUS YAYINLARI,   \n",
       "2  Şeker Portakalı (Ciltsiz)          CAN YAYINLARI,   \n",
       "3                       1984          CAN YAYINLARI,   \n",
       "4        Fareler ve İnsanlar         SEL YAYINCILIK,   \n",
       "\n",
       "                                   Yazar  \n",
       "0              Yazar:   Jose Saramago,    \n",
       "1               Yazar:   Michael Ende,    \n",
       "2  Yazar:   Jose Mauro De Vasconcelos,    \n",
       "3              Yazar:   George Orwell,    \n",
       "4             Yazar:   John Steinbeck,    "
      ]
     },
     "execution_count": 2,
     "metadata": {},
     "output_type": "execute_result"
    }
   ],
   "source": [
    "df = pd.read_csv(\"kitap_1.csv\")\n",
    "df = df.drop(\"Unnamed: 0\", axis=1)\n",
    "df = df.dropna()\n",
    "df.head(5)"
   ]
  },
  {
   "cell_type": "code",
   "execution_count": 3,
   "metadata": {},
   "outputs": [],
   "source": [
    "split = lambda x: x[:-1]\n",
    "df[\"YayınEvi\"] = df[\"YayınEvi\"].apply(split)\n",
    "\n",
    "split = lambda x: x[9:-3]\n",
    "df[\"Yazar\"] = df[\"Yazar\"].apply(split)"
   ]
  },
  {
   "cell_type": "code",
   "execution_count": 4,
   "metadata": {},
   "outputs": [],
   "source": [
    "def trlower(text):\n",
    "    result = \"\"\n",
    "    for letter in text:\n",
    "        if letter == \"I\":\n",
    "            letter = \"ı\"\n",
    "            result += letter\n",
    "        elif letter == \"İ\":\n",
    "            letter = \"i\"\n",
    "            result += letter\n",
    "        else:\n",
    "            result += letter\n",
    "    result = result.lower()\n",
    "    return result"
   ]
  },
  {
   "cell_type": "code",
   "execution_count": 5,
   "metadata": {},
   "outputs": [],
   "source": [
    "for col in df.columns:\n",
    "    df[col] = df[col].apply(trlower)"
   ]
  },
  {
   "cell_type": "code",
   "execution_count": 6,
   "metadata": {},
   "outputs": [],
   "source": [
    "def remove_punctuation(text):\n",
    "    no_punc = [words for words in text if words not in string.punctuation]\n",
    "    word_wo_punc = \"\".join(no_punc)\n",
    "    return word_wo_punc"
   ]
  },
  {
   "cell_type": "code",
   "execution_count": 7,
   "metadata": {},
   "outputs": [],
   "source": [
    "for col in df.columns:\n",
    "    df[col] = df[col].apply(remove_punctuation)"
   ]
  },
  {
   "cell_type": "code",
   "execution_count": 8,
   "metadata": {},
   "outputs": [
    {
     "data": {
      "text/html": [
       "<div>\n",
       "<style scoped>\n",
       "    .dataframe tbody tr th:only-of-type {\n",
       "        vertical-align: middle;\n",
       "    }\n",
       "\n",
       "    .dataframe tbody tr th {\n",
       "        vertical-align: top;\n",
       "    }\n",
       "\n",
       "    .dataframe thead th {\n",
       "        text-align: right;\n",
       "    }\n",
       "</style>\n",
       "<table border=\"1\" class=\"dataframe\">\n",
       "  <thead>\n",
       "    <tr style=\"text-align: right;\">\n",
       "      <th></th>\n",
       "      <th>Kitap</th>\n",
       "      <th>YayınEvi</th>\n",
       "      <th>Yazar</th>\n",
       "    </tr>\n",
       "  </thead>\n",
       "  <tbody>\n",
       "    <tr>\n",
       "      <th>0</th>\n",
       "      <td>körlük</td>\n",
       "      <td>kırmızı kedi yayınevi</td>\n",
       "      <td>jose saramago</td>\n",
       "    </tr>\n",
       "    <tr>\n",
       "      <th>1</th>\n",
       "      <td>momo</td>\n",
       "      <td>pegasus yayınları</td>\n",
       "      <td>michael ende</td>\n",
       "    </tr>\n",
       "    <tr>\n",
       "      <th>2</th>\n",
       "      <td>şeker portakalı ciltsiz</td>\n",
       "      <td>can yayınları</td>\n",
       "      <td>jose mauro de vasconcelos</td>\n",
       "    </tr>\n",
       "    <tr>\n",
       "      <th>3</th>\n",
       "      <td>1984</td>\n",
       "      <td>can yayınları</td>\n",
       "      <td>george orwell</td>\n",
       "    </tr>\n",
       "    <tr>\n",
       "      <th>4</th>\n",
       "      <td>fareler ve insanlar</td>\n",
       "      <td>sel yayıncılık</td>\n",
       "      <td>john steinbeck</td>\n",
       "    </tr>\n",
       "  </tbody>\n",
       "</table>\n",
       "</div>"
      ],
      "text/plain": [
       "                     Kitap               YayınEvi                      Yazar\n",
       "0                   körlük  kırmızı kedi yayınevi              jose saramago\n",
       "1                     momo      pegasus yayınları               michael ende\n",
       "2  şeker portakalı ciltsiz          can yayınları  jose mauro de vasconcelos\n",
       "3                     1984          can yayınları              george orwell\n",
       "4      fareler ve insanlar         sel yayıncılık             john steinbeck"
      ]
     },
     "execution_count": 8,
     "metadata": {},
     "output_type": "execute_result"
    }
   ],
   "source": [
    "df.head()"
   ]
  },
  {
   "cell_type": "code",
   "execution_count": 9,
   "metadata": {},
   "outputs": [
    {
     "data": {
      "text/plain": [
       "<31557x13382 sparse matrix of type '<class 'numpy.float64'>'\n",
       "\twith 70970 stored elements in Compressed Sparse Row format>"
      ]
     },
     "execution_count": 9,
     "metadata": {},
     "output_type": "execute_result"
    }
   ],
   "source": [
    "tfidf_matrix = TfidfVectorizer().fit_transform(df[\"Yazar\"])\n",
    "tfidf_matrix"
   ]
  },
  {
   "cell_type": "code",
   "execution_count": 10,
   "metadata": {},
   "outputs": [
    {
     "data": {
      "text/plain": [
       "array([[1.       , 0.       , 0.3240409, ..., 0.       , 0.       ,\n",
       "        0.       ],\n",
       "       [0.       , 1.       , 0.       , ..., 0.       , 0.       ,\n",
       "        0.       ],\n",
       "       [0.3240409, 0.       , 1.       , ..., 0.       , 0.       ,\n",
       "        0.       ],\n",
       "       ...,\n",
       "       [0.       , 0.       , 0.       , ..., 1.       , 0.       ,\n",
       "        0.       ],\n",
       "       [0.       , 0.       , 0.       , ..., 0.       , 1.       ,\n",
       "        0.       ],\n",
       "       [0.       , 0.       , 0.       , ..., 0.       , 0.       ,\n",
       "        1.       ]])"
      ]
     },
     "execution_count": 10,
     "metadata": {},
     "output_type": "execute_result"
    }
   ],
   "source": [
    "cosine_sim = linear_kernel(tfidf_matrix, tfidf_matrix)\n",
    "cosine_sim"
   ]
  },
  {
   "cell_type": "code",
   "execution_count": 11,
   "metadata": {},
   "outputs": [
    {
     "data": {
      "text/plain": [
       "Kitap\n",
       "körlük                                   0\n",
       "momo                                     1\n",
       "şeker portakalı ciltsiz                  2\n",
       "1984                                     3\n",
       "fareler ve insanlar                      4\n",
       "                                     ...  \n",
       "ben tesadüf değilim                  31708\n",
       "bilgeliğin kapısında kahve molası    31709\n",
       "rüzgar akıllı                        31710\n",
       "rudin kod 11z59                      31711\n",
       "bütüne bütünden aşkla                31712\n",
       "Length: 31557, dtype: int64"
      ]
     },
     "execution_count": 11,
     "metadata": {},
     "output_type": "execute_result"
    }
   ],
   "source": [
    "indices = pd.Series(df.index, index=df[\"Kitap\"]).drop_duplicates()\n",
    "indices"
   ]
  },
  {
   "cell_type": "code",
   "execution_count": 12,
   "metadata": {},
   "outputs": [],
   "source": [
    "def get_recommendations(title, cosine_sim=cosine_sim):\n",
    "    idx = indices[title]\n",
    "    sim_scores = list(enumerate(cosine_sim[idx]))\n",
    "    sim_scores = sorted(sim_scores, key = lambda x : x[1], reverse = True)\n",
    "    sim_scores = sim_scores[1:11]\n",
    "    indices = [i[0] for i in sim_scores]\n",
    "    return df[\"Kitap\"].iloc[indices]"
   ]
  },
  {
   "cell_type": "code",
   "execution_count": 13,
   "metadata": {},
   "outputs": [
    {
     "data": {
      "text/plain": [
       "Kitap       bilinmeyen bir kadının mektubu karton kapak\n",
       "YayınEvi            türkiye iş bankası kültür yayınları\n",
       "Yazar                                      stefan zweig\n",
       "Name: 30, dtype: object"
      ]
     },
     "execution_count": 13,
     "metadata": {},
     "output_type": "execute_result"
    }
   ],
   "source": [
    "df.iloc[30,:]"
   ]
  },
  {
   "cell_type": "code",
   "execution_count": 14,
   "metadata": {},
   "outputs": [
    {
     "data": {
      "text/html": [
       "<div>\n",
       "<style scoped>\n",
       "    .dataframe tbody tr th:only-of-type {\n",
       "        vertical-align: middle;\n",
       "    }\n",
       "\n",
       "    .dataframe tbody tr th {\n",
       "        vertical-align: top;\n",
       "    }\n",
       "\n",
       "    .dataframe thead th {\n",
       "        text-align: right;\n",
       "    }\n",
       "</style>\n",
       "<table border=\"1\" class=\"dataframe\">\n",
       "  <thead>\n",
       "    <tr style=\"text-align: right;\">\n",
       "      <th></th>\n",
       "      <th>Kitap</th>\n",
       "      <th>Yazar</th>\n",
       "      <th>YayınEvi</th>\n",
       "    </tr>\n",
       "  </thead>\n",
       "  <tbody>\n",
       "    <tr>\n",
       "      <th>29</th>\n",
       "      <td>olağanüstü bir gece</td>\n",
       "      <td>stefan zweig</td>\n",
       "      <td>türkiye iş bankası kültür yayınları</td>\n",
       "    </tr>\n",
       "    <tr>\n",
       "      <th>30</th>\n",
       "      <td>bilinmeyen bir kadının mektubu karton kapak</td>\n",
       "      <td>stefan zweig</td>\n",
       "      <td>türkiye iş bankası kültür yayınları</td>\n",
       "    </tr>\n",
       "    <tr>\n",
       "      <th>43</th>\n",
       "      <td>amok koşucusu</td>\n",
       "      <td>stefan zweig</td>\n",
       "      <td>türkiye iş bankası kültür yayınları</td>\n",
       "    </tr>\n",
       "    <tr>\n",
       "      <th>45</th>\n",
       "      <td>bir çöküşün öyküsü</td>\n",
       "      <td>stefan zweig</td>\n",
       "      <td>türkiye iş bankası kültür yayınları</td>\n",
       "    </tr>\n",
       "    <tr>\n",
       "      <th>48</th>\n",
       "      <td>korku</td>\n",
       "      <td>stefan zweig</td>\n",
       "      <td>türkiye iş bankası kültür yayınları</td>\n",
       "    </tr>\n",
       "    <tr>\n",
       "      <th>63</th>\n",
       "      <td>ay ışığı sokağı</td>\n",
       "      <td>stefan zweig</td>\n",
       "      <td>türkiye iş bankası kültür yayınları</td>\n",
       "    </tr>\n",
       "    <tr>\n",
       "      <th>66</th>\n",
       "      <td>mecburiyet</td>\n",
       "      <td>stefan zweig</td>\n",
       "      <td>türkiye iş bankası kültür yayınları</td>\n",
       "    </tr>\n",
       "    <tr>\n",
       "      <th>98</th>\n",
       "      <td>lyon’da düğün</td>\n",
       "      <td>stefan zweig</td>\n",
       "      <td>türkiye iş bankası kültür yayınları</td>\n",
       "    </tr>\n",
       "    <tr>\n",
       "      <th>105</th>\n",
       "      <td>bir kadının yaşamından yirmi dört saat</td>\n",
       "      <td>stefan zweig</td>\n",
       "      <td>türkiye iş bankası kültür yayınları</td>\n",
       "    </tr>\n",
       "    <tr>\n",
       "      <th>123</th>\n",
       "      <td>geçmişe yolculuk</td>\n",
       "      <td>stefan zweig</td>\n",
       "      <td>türkiye iş bankası kültür yayınları</td>\n",
       "    </tr>\n",
       "  </tbody>\n",
       "</table>\n",
       "</div>"
      ],
      "text/plain": [
       "                                           Kitap         Yazar  \\\n",
       "29                           olağanüstü bir gece  stefan zweig   \n",
       "30   bilinmeyen bir kadının mektubu karton kapak  stefan zweig   \n",
       "43                                 amok koşucusu  stefan zweig   \n",
       "45                            bir çöküşün öyküsü  stefan zweig   \n",
       "48                                         korku  stefan zweig   \n",
       "63                               ay ışığı sokağı  stefan zweig   \n",
       "66                                    mecburiyet  stefan zweig   \n",
       "98                                 lyon’da düğün  stefan zweig   \n",
       "105       bir kadının yaşamından yirmi dört saat  stefan zweig   \n",
       "123                             geçmişe yolculuk  stefan zweig   \n",
       "\n",
       "                                YayınEvi  \n",
       "29   türkiye iş bankası kültür yayınları  \n",
       "30   türkiye iş bankası kültür yayınları  \n",
       "43   türkiye iş bankası kültür yayınları  \n",
       "45   türkiye iş bankası kültür yayınları  \n",
       "48   türkiye iş bankası kültür yayınları  \n",
       "63   türkiye iş bankası kültür yayınları  \n",
       "66   türkiye iş bankası kültür yayınları  \n",
       "98   türkiye iş bankası kültür yayınları  \n",
       "105  türkiye iş bankası kültür yayınları  \n",
       "123  türkiye iş bankası kültür yayınları  "
      ]
     },
     "execution_count": 14,
     "metadata": {},
     "output_type": "execute_result"
    }
   ],
   "source": [
    "gt = get_recommendations(\"bilinmeyen bir kadının mektubu karton kapak\")\n",
    "df_gt = pd.DataFrame(columns = [\"Kitap\",\"Yazar\"])\n",
    "\n",
    "for index in gt.index:\n",
    "    value = pd.DataFrame(df.iloc[index, 0:3]).T\n",
    "    df_gt = pd.concat([df_gt, value], axis=0)\n",
    "\n",
    "df_gt"
   ]
  },
  {
   "cell_type": "code",
   "execution_count": 15,
   "metadata": {},
   "outputs": [
    {
     "data": {
      "text/plain": [
       "Kitap       saatleri ayarlama enstitüsü\n",
       "YayınEvi               dergah yayınları\n",
       "Yazar              ahmet hamdi tanpınar\n",
       "Name: 10, dtype: object"
      ]
     },
     "execution_count": 15,
     "metadata": {},
     "output_type": "execute_result"
    }
   ],
   "source": [
    "df.iloc[10,:]"
   ]
  },
  {
   "cell_type": "code",
   "execution_count": 16,
   "metadata": {},
   "outputs": [
    {
     "data": {
      "text/html": [
       "<div>\n",
       "<style scoped>\n",
       "    .dataframe tbody tr th:only-of-type {\n",
       "        vertical-align: middle;\n",
       "    }\n",
       "\n",
       "    .dataframe tbody tr th {\n",
       "        vertical-align: top;\n",
       "    }\n",
       "\n",
       "    .dataframe thead th {\n",
       "        text-align: right;\n",
       "    }\n",
       "</style>\n",
       "<table border=\"1\" class=\"dataframe\">\n",
       "  <thead>\n",
       "    <tr style=\"text-align: right;\">\n",
       "      <th></th>\n",
       "      <th>Kitap</th>\n",
       "      <th>Yazar</th>\n",
       "      <th>YayınEvi</th>\n",
       "    </tr>\n",
       "  </thead>\n",
       "  <tbody>\n",
       "    <tr>\n",
       "      <th>40</th>\n",
       "      <td>beş şehir</td>\n",
       "      <td>ahmet hamdi tanpınar</td>\n",
       "      <td>dergah yayınları</td>\n",
       "    </tr>\n",
       "    <tr>\n",
       "      <th>71</th>\n",
       "      <td>huzur</td>\n",
       "      <td>ahmet hamdi tanpınar</td>\n",
       "      <td>dergah yayınları</td>\n",
       "    </tr>\n",
       "    <tr>\n",
       "      <th>263</th>\n",
       "      <td>mahur beste</td>\n",
       "      <td>ahmet hamdi tanpınar</td>\n",
       "      <td>dergah yayınları</td>\n",
       "    </tr>\n",
       "    <tr>\n",
       "      <th>601</th>\n",
       "      <td>ahmet hamdi tanpınar  bütün şiirleri</td>\n",
       "      <td>ahmet hamdi tanpınar</td>\n",
       "      <td>dergah yayınları</td>\n",
       "    </tr>\n",
       "    <tr>\n",
       "      <th>622</th>\n",
       "      <td>on dokuzuncu asır türk edebiyatı tarihi</td>\n",
       "      <td>ahmet hamdi tanpınar</td>\n",
       "      <td>dergah yayınları</td>\n",
       "    </tr>\n",
       "    <tr>\n",
       "      <th>681</th>\n",
       "      <td>sahnenin dışındakiler</td>\n",
       "      <td>ahmet hamdi tanpınar</td>\n",
       "      <td>dergah yayınları</td>\n",
       "    </tr>\n",
       "    <tr>\n",
       "      <th>935</th>\n",
       "      <td>hikayeler yaz yağmuruabdullah efendinin rüyaları</td>\n",
       "      <td>ahmet hamdi tanpınar</td>\n",
       "      <td>dergah yayınları</td>\n",
       "    </tr>\n",
       "    <tr>\n",
       "      <th>1433</th>\n",
       "      <td>atları bağlayın geceyi burada geçireceğiz</td>\n",
       "      <td>melisa kesmez</td>\n",
       "      <td>iletişim yayınları</td>\n",
       "    </tr>\n",
       "    <tr>\n",
       "      <th>1642</th>\n",
       "      <td>mary stuart</td>\n",
       "      <td>stefan zweig</td>\n",
       "      <td>can yayınları</td>\n",
       "    </tr>\n",
       "    <tr>\n",
       "      <th>1941</th>\n",
       "      <td>camları kırın kuşlar kurtulsun</td>\n",
       "      <td>fatoş güney</td>\n",
       "      <td>ithaki yayınları</td>\n",
       "    </tr>\n",
       "  </tbody>\n",
       "</table>\n",
       "</div>"
      ],
      "text/plain": [
       "                                                 Kitap                 Yazar  \\\n",
       "40                                           beş şehir  ahmet hamdi tanpınar   \n",
       "71                                               huzur  ahmet hamdi tanpınar   \n",
       "263                                        mahur beste  ahmet hamdi tanpınar   \n",
       "601               ahmet hamdi tanpınar  bütün şiirleri  ahmet hamdi tanpınar   \n",
       "622            on dokuzuncu asır türk edebiyatı tarihi  ahmet hamdi tanpınar   \n",
       "681                              sahnenin dışındakiler  ahmet hamdi tanpınar   \n",
       "935   hikayeler yaz yağmuruabdullah efendinin rüyaları  ahmet hamdi tanpınar   \n",
       "1433         atları bağlayın geceyi burada geçireceğiz         melisa kesmez   \n",
       "1642                                       mary stuart          stefan zweig   \n",
       "1941                    camları kırın kuşlar kurtulsun           fatoş güney   \n",
       "\n",
       "                YayınEvi  \n",
       "40      dergah yayınları  \n",
       "71      dergah yayınları  \n",
       "263     dergah yayınları  \n",
       "601     dergah yayınları  \n",
       "622     dergah yayınları  \n",
       "681     dergah yayınları  \n",
       "935     dergah yayınları  \n",
       "1433  iletişim yayınları  \n",
       "1642       can yayınları  \n",
       "1941    ithaki yayınları  "
      ]
     },
     "execution_count": 16,
     "metadata": {},
     "output_type": "execute_result"
    }
   ],
   "source": [
    "gt = get_recommendations(\"saatleri ayarlama enstitüsü\")\n",
    "df_gt = pd.DataFrame(columns = [\"Kitap\",\"Yazar\"])\n",
    "\n",
    "for index in gt.index:\n",
    "    value = pd.DataFrame(df.iloc[index, 0:3]).T\n",
    "    df_gt = pd.concat([df_gt, value], axis=0)\n",
    "\n",
    "df_gt"
   ]
  }
 ],
 "metadata": {
  "kernelspec": {
   "display_name": "Python 3",
   "language": "python",
   "name": "python3"
  },
  "language_info": {
   "codemirror_mode": {
    "name": "ipython",
    "version": 3
   },
   "file_extension": ".py",
   "mimetype": "text/x-python",
   "name": "python",
   "nbconvert_exporter": "python",
   "pygments_lexer": "ipython3",
   "version": "3.8.5"
  }
 },
 "nbformat": 4,
 "nbformat_minor": 4
}
